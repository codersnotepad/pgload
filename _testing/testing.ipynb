{
 "cells": [
  {
   "cell_type": "code",
   "execution_count": 1,
   "id": "injured-cream",
   "metadata": {},
   "outputs": [],
   "source": [
    "# add path to package\n",
    "import pathlib\n",
    "import os\n",
    "import sys\n",
    "sys.path.insert(0, os.path.dirname(pathlib.Path().absolute()))"
   ]
  },
  {
   "cell_type": "code",
   "execution_count": 11,
   "id": "vanilla-minimum",
   "metadata": {},
   "outputs": [],
   "source": [
    "from pgload import pgload as pg"
   ]
  },
  {
   "cell_type": "code",
   "execution_count": null,
   "id": "afraid-beijing",
   "metadata": {
    "scrolled": false
   },
   "outputs": [],
   "source": []
  },
  {
   "cell_type": "code",
   "execution_count": 13,
   "id": "potential-landing",
   "metadata": {},
   "outputs": [
    {
     "ename": "AttributeError",
     "evalue": "'pgload' object has no attribute '__file__'",
     "output_type": "error",
     "traceback": [
      "\u001b[1;31m---------------------------------------------------------------------------\u001b[0m",
      "\u001b[1;31mAttributeError\u001b[0m                            Traceback (most recent call last)",
      "\u001b[1;32m<ipython-input-13-42eb24b31f2a>\u001b[0m in \u001b[0;36m<module>\u001b[1;34m\u001b[0m\n\u001b[1;32m----> 1\u001b[1;33m \u001b[0mpg\u001b[0m\u001b[1;33m.\u001b[0m\u001b[0m__file__\u001b[0m\u001b[1;33m\u001b[0m\u001b[1;33m\u001b[0m\u001b[0m\n\u001b[0m",
      "\u001b[1;31mAttributeError\u001b[0m: 'pgload' object has no attribute '__file__'"
     ]
    }
   ],
   "source": [
    "pg.__file__"
   ]
  },
  {
   "cell_type": "code",
   "execution_count": 5,
   "id": "continental-equity",
   "metadata": {},
   "outputs": [
    {
     "name": "stdout",
     "output_type": "stream",
     "text": [
      "Help on package pgload:\n",
      "\n",
      "NAME\n",
      "    pgload\n",
      "\n",
      "DESCRIPTION\n",
      "    Provides\n",
      "      1. tool for validating json data is ready for insertion into a postgres database.\n",
      "      2. tool to insert validated data into a postgresql using SCD2 method.\n",
      "    \n",
      "    How to use the documentation\n",
      "    ----------------------------\n",
      "\n",
      "PACKAGE CONTENTS\n",
      "    pgload\n",
      "\n",
      "DATA\n",
      "    pgload = <pgload.pgload.pgload object>\n",
      "\n",
      "VERSION\n",
      "    0.2.6\n",
      "\n",
      "FILE\n",
      "    c:\\users\\timot\\projects\\python\\pgload\\pgload\\__init__.py\n",
      "\n",
      "\n"
     ]
    }
   ],
   "source": [
    "help(pg)"
   ]
  },
  {
   "cell_type": "code",
   "execution_count": 10,
   "id": "acquired-reception",
   "metadata": {},
   "outputs": [
    {
     "data": {
      "text/plain": [
       "'host=<host name> port=<port> dbname=<database> user=<user name> password=<password>'"
      ]
     },
     "execution_count": 10,
     "metadata": {},
     "output_type": "execute_result"
    }
   ],
   "source": [
    "pg.pgload.db_conn_str"
   ]
  },
  {
   "cell_type": "code",
   "execution_count": 7,
   "id": "exterior-theory",
   "metadata": {
    "scrolled": false
   },
   "outputs": [],
   "source": [
    "pg1 = pg.pgload"
   ]
  },
  {
   "cell_type": "code",
   "execution_count": 8,
   "id": "ongoing-thong",
   "metadata": {
    "scrolled": true
   },
   "outputs": [
    {
     "data": {
      "text/plain": [
       "<function numpy.lib.npyio.mafromtxt(fname, **kwargs)>"
      ]
     },
     "execution_count": 8,
     "metadata": {},
     "output_type": "execute_result"
    }
   ],
   "source": [
    "np.mafromtxt"
   ]
  },
  {
   "cell_type": "code",
   "execution_count": 9,
   "id": "hybrid-vulnerability",
   "metadata": {},
   "outputs": [
    {
     "ename": "TypeError",
     "evalue": "validate_data() missing 1 required positional argument: 'data'",
     "output_type": "error",
     "traceback": [
      "\u001b[1;31m---------------------------------------------------------------------------\u001b[0m",
      "\u001b[1;31mTypeError\u001b[0m                                 Traceback (most recent call last)",
      "\u001b[1;32m<ipython-input-9-f1c0a6f26002>\u001b[0m in \u001b[0;36m<module>\u001b[1;34m\u001b[0m\n\u001b[1;32m----> 1\u001b[1;33m \u001b[0mpg1\u001b[0m\u001b[1;33m.\u001b[0m\u001b[0mvalidate_data\u001b[0m\u001b[1;33m(\u001b[0m\u001b[1;33m)\u001b[0m\u001b[1;33m\u001b[0m\u001b[1;33m\u001b[0m\u001b[0m\n\u001b[0m",
      "\u001b[1;31mTypeError\u001b[0m: validate_data() missing 1 required positional argument: 'data'"
     ]
    }
   ],
   "source": [
    "pg1.validate_data()"
   ]
  },
  {
   "cell_type": "code",
   "execution_count": null,
   "id": "quiet-military",
   "metadata": {},
   "outputs": [],
   "source": []
  }
 ],
 "metadata": {
  "kernelspec": {
   "display_name": "Python 3",
   "language": "python",
   "name": "python3"
  },
  "language_info": {
   "codemirror_mode": {
    "name": "ipython",
    "version": 3
   },
   "file_extension": ".py",
   "mimetype": "text/x-python",
   "name": "python",
   "nbconvert_exporter": "python",
   "pygments_lexer": "ipython3",
   "version": "3.8.6"
  }
 },
 "nbformat": 4,
 "nbformat_minor": 5
}
